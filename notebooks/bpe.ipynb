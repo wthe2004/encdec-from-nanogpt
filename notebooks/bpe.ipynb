{
 "cells": [
  {
   "cell_type": "code",
   "execution_count": 6,
   "id": "76272d7b",
   "metadata": {},
   "outputs": [],
   "source": [
    "\n",
    "from datasets import load_dataset\n",
    "from tokenizers import Tokenizer\n",
    "from tokenizers.models import BPE\n",
    "from tokenizers.trainers import BpeTrainer\n",
    "from tokenizers.pre_tokenizers import Whitespace\n",
    "from tokenizers import Tokenizer, models, trainers, pre_tokenizers, decoders, processors\n",
    "from tokenizers import Encoding\n",
    "\n",
    "def batch_iterator(dataset, batch_size=1000):\n",
    "    for i in range(0, len(dataset[\"train\"]), batch_size):\n",
    "        batch = dataset[\"train\"][i : i + batch_size]\n",
    "        yield [text for text in batch[\"src\"] if text is not None]\n",
    "        yield [text for text in batch[\"ref\"] if text is not None]\n"
   ]
  },
  {
   "cell_type": "code",
   "execution_count": 7,
   "id": "c30798e3",
   "metadata": {},
   "outputs": [
    {
     "name": "stdout",
     "output_type": "stream",
     "text": [
      "/home/hwt-wsl-ubt/codespace/toy-codes-hwt/encdec-from-nanogpt/notebooks\n"
     ]
    }
   ],
   "source": [
    "!pwd"
   ]
  },
  {
   "cell_type": "code",
   "execution_count": 8,
   "id": "88ad04b2",
   "metadata": {},
   "outputs": [
    {
     "name": "stdout",
     "output_type": "stream",
     "text": [
      "\n",
      "\n",
      "\n",
      "Encoded: ['ĠSha', 'kes', 'p', 'ea', 're', 'Ġwas', 'Ġa', 'Ġgreat', 'Ġplay', 'w', 'right', '.']\n"
     ]
    }
   ],
   "source": [
    "with open(\"../ref/shakespeare.txt\", \"r\", encoding=\"utf-8\") as f:\n",
    "    text = f.read()\n",
    "\n",
    "\n",
    "# 初始化 BPE 分词器\n",
    "tokenizer = Tokenizer(BPE())\n",
    "\n",
    "# 设置预处理器，按空格分词\n",
    "tokenizer.pre_tokenizer = pre_tokenizers.ByteLevel()\n",
    "\n",
    "# 设置解码器\n",
    "tokenizer.decoder = decoders.ByteLevel()\n",
    "\n",
    "# 设置后处理器，添加特殊 tokens\n",
    "tokenizer.post_processor = processors.ByteLevel(trim_offsets=True)\n",
    "\n",
    "# 创建 BPE 分词器的训练器\n",
    "trainer = trainers.BpeTrainer(vocab_size=5000, min_frequency=2, special_tokens=[\"[PAD]\", \"[UNK]\", \"[BOS]\", \"[EOS]\"])\n",
    "\n",
    "# 训练 BPE 分词器\n",
    "tokenizer.train_from_iterator(text.split(\"\\n\"), trainer=trainer)\n",
    "\n",
    "# 测试分词器\n",
    "encoded = tokenizer.encode(\"Shakespeare was a great playwright.\")\n",
    "print(\"Encoded:\", encoded.tokens)"
   ]
  },
  {
   "cell_type": "code",
   "execution_count": null,
   "id": "d7fe8e6d",
   "metadata": {},
   "outputs": [],
   "source": []
  }
 ],
 "metadata": {
  "kernelspec": {
   "display_name": "encdec-from-nanogpt",
   "language": "python",
   "name": "python3"
  },
  "language_info": {
   "codemirror_mode": {
    "name": "ipython",
    "version": 3
   },
   "file_extension": ".py",
   "mimetype": "text/x-python",
   "name": "python",
   "nbconvert_exporter": "python",
   "pygments_lexer": "ipython3",
   "version": "3.10.18"
  }
 },
 "nbformat": 4,
 "nbformat_minor": 5
}
