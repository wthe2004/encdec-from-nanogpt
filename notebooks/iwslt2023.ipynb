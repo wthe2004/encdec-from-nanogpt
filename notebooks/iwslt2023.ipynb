{
 "cells": [
  {
   "cell_type": "code",
   "execution_count": 1,
   "id": "4d10f380",
   "metadata": {},
   "outputs": [
    {
     "name": "stderr",
     "output_type": "stream",
     "text": [
      "/home/hwt-wsl-ubt/codespace/toy-codes-hwt/encdec-from-nanogpt/.venv/lib/python3.10/site-packages/tqdm/auto.py:21: TqdmWarning: IProgress not found. Please update jupyter and ipywidgets. See https://ipywidgets.readthedocs.io/en/stable/user_install.html\n",
      "  from .autonotebook import tqdm as notebook_tqdm\n"
     ]
    },
    {
     "name": "stdout",
     "output_type": "stream",
     "text": [
      "DatasetDict({\n",
      "    train: Dataset({\n",
      "        features: ['lp', 'src', 'mt', 'ref', 'raw', 'annotators', 'domain', 'year', 'task', 'sys_id'],\n",
      "        num_rows: 12480\n",
      "    })\n",
      "})\n"
     ]
    }
   ],
   "source": [
    "from datasets import load_dataset\n",
    "\n",
    "# 正确的方式：即使是从本地加载，也要添加 trust_remote_code=True\n",
    "dataset = load_dataset(\n",
    "    \"IWSLT/da2023\",\n",
    ")\n",
    "\n",
    "print(dataset)"
   ]
  },
  {
   "cell_type": "code",
   "execution_count": 2,
   "id": "661df1f1",
   "metadata": {},
   "outputs": [
    {
     "name": "stdout",
     "output_type": "stream",
     "text": [
      "{'lp': 'en-de', 'src': 'Then CEAS applies the generator to the four labeled documents independently and generates release notes for each class.', 'mt': 'Anschließend wendet C-E-A-S den Generator unabhängig voneinander auf die vier Etikettendokumente an und erzeugt für jede Klasse Freisetzungsnotizen.', 'ref': 'Dann wendet CEAS den Generator auf die vier markierten Dokumente unabhängig voneinander an und erstellt Versionshinweise für jede Klasse.', 'raw': 80, 'annotators': 1, 'domain': 'ACL', 'year': 2023, 'task': 'multilingual', 'sys_id': 2}\n"
     ]
    }
   ],
   "source": [
    "print(dataset['train'][0])"
   ]
  },
  {
   "cell_type": "code",
   "execution_count": null,
   "id": "40e248e5",
   "metadata": {},
   "outputs": [],
   "source": []
  }
 ],
 "metadata": {
  "kernelspec": {
   "display_name": "encdec-from-nanogpt",
   "language": "python",
   "name": "python3"
  },
  "language_info": {
   "codemirror_mode": {
    "name": "ipython",
    "version": 3
   },
   "file_extension": ".py",
   "mimetype": "text/x-python",
   "name": "python",
   "nbconvert_exporter": "python",
   "pygments_lexer": "ipython3",
   "version": "3.10.18"
  }
 },
 "nbformat": 4,
 "nbformat_minor": 5
}
